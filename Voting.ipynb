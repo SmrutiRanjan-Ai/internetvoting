{
 "cells": [
  {
   "cell_type": "code",
   "execution_count": 8,
   "id": "7420c1f1",
   "metadata": {},
   "outputs": [],
   "source": [
    "import counters\n",
    "import organizers\n",
    "import user\n",
    "import voter\n",
    "import votes\n",
    "import registrars\n",
    "import candidate\n",
    "import global_file\n",
    "import evaluators\n",
    "import election\n",
    "import ballot\n",
    "import blockchain\n",
    "import agent"
   ]
  },
  {
   "cell_type": "markdown",
   "id": "1c7780e8",
   "metadata": {},
   "source": [
    "Parameters\n"
   ]
  },
  {
   "cell_type": "code",
   "execution_count": 9,
   "id": "4e15a34e",
   "metadata": {},
   "outputs": [],
   "source": [
    "voters_num=5\n",
    "region = 1"
   ]
  },
  {
   "cell_type": "markdown",
   "id": "053d14e2",
   "metadata": {},
   "source": [
    "DID Verification with issuer"
   ]
  },
  {
   "cell_type": "code",
   "execution_count": 10,
   "id": "bd760e9e",
   "metadata": {},
   "outputs": [
    {
     "name": "stdout",
     "output_type": "stream",
     "text": [
      "issuer Agent Created with did:key:1A1XKhLwTWMyePU8n3EzgAQvyPGgZmYZhu\n"
     ]
    }
   ],
   "source": [
    "blockchain=blockchain.Blockchain()\n",
    "issuer = agent.Agent(\"issuer\",blockchain,\"issuer\")\n",
    "issuer.create_invitation('issuer')"
   ]
  },
  {
   "cell_type": "code",
   "execution_count": 11,
   "id": "67318eb2",
   "metadata": {},
   "outputs": [
    {
     "name": "stdout",
     "output_type": "stream",
     "text": [
      "registrar Agent Created with did:key:1BPeLyFzNxkPj65bc4bdFJyXsPiNeMGjF\n"
     ]
    }
   ],
   "source": [
    "registrar = registrars.Registrars(region,blockchain)\n",
    "organizer = organizers.Organizer(region)"
   ]
  },
  {
   "cell_type": "code",
   "execution_count": 13,
   "id": "adfb2016",
   "metadata": {},
   "outputs": [],
   "source": [
    "candidates_num = 3 # Number of Candidates\n",
    "counters_num = 5 # Number of Vote Counters"
   ]
  },
  {
   "cell_type": "markdown",
   "id": "68d3cf38",
   "metadata": {},
   "source": [
    "Create Candidates"
   ]
  },
  {
   "cell_type": "code",
   "execution_count": 14,
   "id": "0197ca7a",
   "metadata": {},
   "outputs": [
    {
     "name": "stdout",
     "output_type": "stream",
     "text": [
      "Patricia Loeschner\n",
      "Jean Chasse\n",
      "Susie Johnson\n"
     ]
    }
   ],
   "source": [
    "for i in range(candidates_num):\n",
    "\tc=candidate.Candidate(region)\n",
    "\tprint(c)"
   ]
  },
  {
   "cell_type": "markdown",
   "id": "cfe06508",
   "metadata": {},
   "source": [
    "Create Ballot And Create Evaluator"
   ]
  },
  {
   "cell_type": "code",
   "execution_count": 15,
   "id": "ef4ee869",
   "metadata": {},
   "outputs": [
    {
     "name": "stdout",
     "output_type": "stream",
     "text": [
      "{\"id\": null, \"data\": {\"e34b0f1d-576b-4c3b-83b0-f22bc3c4e536\": null, \"6a14ebc6-b35e-4aa6-af81-2c6afdd1451b\": null, \"f41a8e90-0d3d-4650-8b41-885daff799b0\": null}}\n"
     ]
    }
   ],
   "source": [
    "candidates = global_file.list_of_candidates[region]\n",
    "evaluator = evaluators.Evaluator(region,candidates)\n",
    "ballot = ballot.Ballot(region,candidates)"
   ]
  },
  {
   "cell_type": "markdown",
   "id": "03228bcb",
   "metadata": {},
   "source": [
    "Create Counters"
   ]
  },
  {
   "cell_type": "code",
   "execution_count": 16,
   "id": "ccdf2e08",
   "metadata": {},
   "outputs": [
    {
     "name": "stdout",
     "output_type": "stream",
     "text": [
      "Anthony Mathews\n",
      "Diana Miller\n",
      "Joyce Mcdaniel\n",
      "Marilyn Muraro\n",
      "Ruby Anderson\n"
     ]
    }
   ],
   "source": [
    "for i in range(counters_num):\n",
    "\tc=counters.Counters(region)\n",
    "\tprint(c)"
   ]
  },
  {
   "cell_type": "markdown",
   "id": "f8cd2ac5",
   "metadata": {},
   "source": [
    "Voter Registration"
   ]
  },
  {
   "cell_type": "code",
   "execution_count": 17,
   "id": "db131ca6",
   "metadata": {},
   "outputs": [
    {
     "name": "stdout",
     "output_type": "stream",
     "text": [
      "Julie Miller Agent Created with did:key:1E6MQLio22eV1gyrJcAVELVMyRd1cHHXJf\n",
      "Connection between issuer with did:key:1A1XKhLwTWMyePU8n3EzgAQvyPGgZmYZhu is established with Julie Miller with did:key:1E6MQLio22eV1gyrJcAVELVMyRd1cHHXJf\n",
      "{'name': 'Julie Miller', 'age': 18} of Julie Miller checked.\n",
      "message is: 2a270002b0f487744ccedd8b4398af2291869820e512d8346422cfe2e17a93e0\n",
      "Digital Signature =  cc8fed609581cc94ee65fef4cea33f7eb1f826f5a4875eb8eacba80b63b93e531afe93fff61d26cc4db997291733ed7e356a3c13b65cf2ce3ddde246887aa112\n",
      "pk found  8e88ecd2495dad337b6b9eef3cf3db423c45925a91b1e71a8ec296b3444a3fbf4987ab960095831c5cb6c1764c8a125cb1266324762bd31a60febb6b2b370a03 added by did:key: 1A1XKhLwTWMyePU8n3EzgAQvyPGgZmYZhu\n",
      "txn: {'did': '1A1XKhLwTWMyePU8n3EzgAQvyPGgZmYZhu', 'pk': '8e88ecd2495dad337b6b9eef3cf3db423c45925a91b1e71a8ec296b3444a3fbf4987ab960095831c5cb6c1764c8a125cb1266324762bd31a60febb6b2b370a03'}\n",
      "block data: {'prev_hash': '0', 'mkl_root': '5ddbeb6a988bdac322b0fc46c83f2a28fabb92a908e7d1a05bca79e77b653f90', 'block_hash': '0990f1364ad45897aa6332f82b1c9ef8244c47f1539d8391ed1ad498fda6ac86', 'nonce': 2480, 'timestamp': '1652265142.4358015'}\n",
      "True Signature verified of  8e88ecd2495dad337b6b9eef3cf3db423c45925a91b1e71a8ec296b3444a3fbf4987ab960095831c5cb6c1764c8a125cb1266324762bd31a60febb6b2b370a03\n",
      "Claim {'name': 'Julie Miller', 'age': 18} by did:peer:1E6MQLio22eV1gyrJcAVELVMyRd1cHHXJf Verified by registrar\n",
      "Allen Uriarte Agent Created with did:key:17GKmFSg3YCh2tW3gkYSHDhtjFdVaFtZ4K\n",
      "Connection between issuer with did:key:1A1XKhLwTWMyePU8n3EzgAQvyPGgZmYZhu is established with Allen Uriarte with did:key:17GKmFSg3YCh2tW3gkYSHDhtjFdVaFtZ4K\n",
      "{'name': 'Allen Uriarte', 'age': 18} of Allen Uriarte checked.\n",
      "message is: 1e83ab368a6f6f29cd737f2cca6fc17f17dc904e003bc3cab3816f0fa8148b3a\n",
      "Digital Signature =  f4e12fc4480000781a8629f149828a24003e1c24a543595ad05ef9d7c7f4296cbf20047d8be0249ced21f8fdc805c43e9f421fd06e5fd67621c3d55ea7ba1314\n",
      "pk found  8e88ecd2495dad337b6b9eef3cf3db423c45925a91b1e71a8ec296b3444a3fbf4987ab960095831c5cb6c1764c8a125cb1266324762bd31a60febb6b2b370a03 added by did:key: 1A1XKhLwTWMyePU8n3EzgAQvyPGgZmYZhu\n",
      "txn: {'did': '1A1XKhLwTWMyePU8n3EzgAQvyPGgZmYZhu', 'pk': '8e88ecd2495dad337b6b9eef3cf3db423c45925a91b1e71a8ec296b3444a3fbf4987ab960095831c5cb6c1764c8a125cb1266324762bd31a60febb6b2b370a03'}\n",
      "block data: {'prev_hash': '0', 'mkl_root': '5ddbeb6a988bdac322b0fc46c83f2a28fabb92a908e7d1a05bca79e77b653f90', 'block_hash': '0990f1364ad45897aa6332f82b1c9ef8244c47f1539d8391ed1ad498fda6ac86', 'nonce': 2480, 'timestamp': '1652265142.4358015'}\n",
      "True Signature verified of  8e88ecd2495dad337b6b9eef3cf3db423c45925a91b1e71a8ec296b3444a3fbf4987ab960095831c5cb6c1764c8a125cb1266324762bd31a60febb6b2b370a03\n",
      "Claim {'name': 'Allen Uriarte', 'age': 18} by did:peer:17GKmFSg3YCh2tW3gkYSHDhtjFdVaFtZ4K Verified by registrar\n",
      "Jenni Tieng Agent Created with did:key:1DDCLPY6zPnVCWW9Xd2ao7zwru1yjProCs\n",
      "Connection between issuer with did:key:1A1XKhLwTWMyePU8n3EzgAQvyPGgZmYZhu is established with Jenni Tieng with did:key:1DDCLPY6zPnVCWW9Xd2ao7zwru1yjProCs\n",
      "{'name': 'Jenni Tieng', 'age': 18} of Jenni Tieng checked.\n",
      "message is: 6b5dd142485523e8cc7114b30c378f17a28b93394c67b8421c833ae67f948e15\n",
      "Digital Signature =  cf9284ed65f6f795199fe488ea6788d14367785b23201605173b1923bae6c6c25886359e529b0bb88670410c11e06d0dc5e77f1734b50c94a6ad003b41989f67\n",
      "pk found  8e88ecd2495dad337b6b9eef3cf3db423c45925a91b1e71a8ec296b3444a3fbf4987ab960095831c5cb6c1764c8a125cb1266324762bd31a60febb6b2b370a03 added by did:key: 1A1XKhLwTWMyePU8n3EzgAQvyPGgZmYZhu\n",
      "txn: {'did': '1A1XKhLwTWMyePU8n3EzgAQvyPGgZmYZhu', 'pk': '8e88ecd2495dad337b6b9eef3cf3db423c45925a91b1e71a8ec296b3444a3fbf4987ab960095831c5cb6c1764c8a125cb1266324762bd31a60febb6b2b370a03'}\n",
      "block data: {'prev_hash': '0', 'mkl_root': '5ddbeb6a988bdac322b0fc46c83f2a28fabb92a908e7d1a05bca79e77b653f90', 'block_hash': '0990f1364ad45897aa6332f82b1c9ef8244c47f1539d8391ed1ad498fda6ac86', 'nonce': 2480, 'timestamp': '1652265142.4358015'}\n",
      "True Signature verified of  8e88ecd2495dad337b6b9eef3cf3db423c45925a91b1e71a8ec296b3444a3fbf4987ab960095831c5cb6c1764c8a125cb1266324762bd31a60febb6b2b370a03\n",
      "Claim {'name': 'Jenni Tieng', 'age': 18} by did:peer:1DDCLPY6zPnVCWW9Xd2ao7zwru1yjProCs Verified by registrar\n",
      "Ellen Vignola Agent Created with did:key:136fi1rBLDg1dD4o753yuYhyad67XujnYc\n",
      "Connection between issuer with did:key:1A1XKhLwTWMyePU8n3EzgAQvyPGgZmYZhu is established with Ellen Vignola with did:key:136fi1rBLDg1dD4o753yuYhyad67XujnYc\n",
      "{'name': 'Ellen Vignola', 'age': 18} of Ellen Vignola checked.\n",
      "message is: ffe1329862456afe486c08695a2c32420907258dcca8102b978567619c24f190\n",
      "Digital Signature =  8cb136fa0e7e135e5e74b319b933b990d6c557fc29714b2af08af8a7c95df44997d9247b8e970625b6f3238e8a602dba80b3a228716450102df0b6ef713c57e1\n",
      "pk found  8e88ecd2495dad337b6b9eef3cf3db423c45925a91b1e71a8ec296b3444a3fbf4987ab960095831c5cb6c1764c8a125cb1266324762bd31a60febb6b2b370a03 added by did:key: 1A1XKhLwTWMyePU8n3EzgAQvyPGgZmYZhu\n",
      "txn: {'did': '1A1XKhLwTWMyePU8n3EzgAQvyPGgZmYZhu', 'pk': '8e88ecd2495dad337b6b9eef3cf3db423c45925a91b1e71a8ec296b3444a3fbf4987ab960095831c5cb6c1764c8a125cb1266324762bd31a60febb6b2b370a03'}\n",
      "block data: {'prev_hash': '0', 'mkl_root': '5ddbeb6a988bdac322b0fc46c83f2a28fabb92a908e7d1a05bca79e77b653f90', 'block_hash': '0990f1364ad45897aa6332f82b1c9ef8244c47f1539d8391ed1ad498fda6ac86', 'nonce': 2480, 'timestamp': '1652265142.4358015'}\n",
      "True Signature verified of  8e88ecd2495dad337b6b9eef3cf3db423c45925a91b1e71a8ec296b3444a3fbf4987ab960095831c5cb6c1764c8a125cb1266324762bd31a60febb6b2b370a03\n",
      "Claim {'name': 'Ellen Vignola', 'age': 18} by did:peer:136fi1rBLDg1dD4o753yuYhyad67XujnYc Verified by registrar\n",
      "Geoffrey Cohran Agent Created with did:key:1AUviCbYHQTrepqbMKw3Bh1JTfmRtSWXVR\n",
      "Connection between issuer with did:key:1A1XKhLwTWMyePU8n3EzgAQvyPGgZmYZhu is established with Geoffrey Cohran with did:key:1AUviCbYHQTrepqbMKw3Bh1JTfmRtSWXVR\n",
      "{'name': 'Geoffrey Cohran', 'age': 18} of Geoffrey Cohran checked.\n",
      "message is: d4d3d4f024cd800e82b87bf24b95b45cd853b43e00ba725a68c9111d5189a441\n",
      "Digital Signature =  786d2e3f4d4eb0dbc1b3e15008e6e71f64a7c05ab7896c9224b8feb7d8599708b893d23af851bcc1a92971a622dab4e3cd547fe7d9bc91c74be9a12078888a9a\n",
      "pk found  8e88ecd2495dad337b6b9eef3cf3db423c45925a91b1e71a8ec296b3444a3fbf4987ab960095831c5cb6c1764c8a125cb1266324762bd31a60febb6b2b370a03 added by did:key: 1A1XKhLwTWMyePU8n3EzgAQvyPGgZmYZhu\n",
      "txn: {'did': '1A1XKhLwTWMyePU8n3EzgAQvyPGgZmYZhu', 'pk': '8e88ecd2495dad337b6b9eef3cf3db423c45925a91b1e71a8ec296b3444a3fbf4987ab960095831c5cb6c1764c8a125cb1266324762bd31a60febb6b2b370a03'}\n",
      "block data: {'prev_hash': '0', 'mkl_root': '5ddbeb6a988bdac322b0fc46c83f2a28fabb92a908e7d1a05bca79e77b653f90', 'block_hash': '0990f1364ad45897aa6332f82b1c9ef8244c47f1539d8391ed1ad498fda6ac86', 'nonce': 2480, 'timestamp': '1652265142.4358015'}\n",
      "True Signature verified of  8e88ecd2495dad337b6b9eef3cf3db423c45925a91b1e71a8ec296b3444a3fbf4987ab960095831c5cb6c1764c8a125cb1266324762bd31a60febb6b2b370a03\n",
      "Claim {'name': 'Geoffrey Cohran', 'age': 18} by did:peer:1AUviCbYHQTrepqbMKw3Bh1JTfmRtSWXVR Verified by registrar\n"
     ]
    }
   ],
   "source": [
    "for _ in range(voters_num):\n",
    "\tv=voter.Voter(region,blockchain)\n",
    "\tissuer.send_invitation(issuer.invitation, f\"{v.alias}\")\n",
    "\tv.agent.update_data(v.alias,18)\n",
    "\tv.agent.send_attributes('issuer')\n",
    "\tissuer.check_attributes()\n",
    "\tissuer.send_credentials()\n",
    "\tv.agent.present_claim('registrar')"
   ]
  },
  {
   "cell_type": "markdown",
   "id": "aae573c1",
   "metadata": {},
   "source": [
    "Voter Registers with Registrar"
   ]
  },
  {
   "cell_type": "code",
   "execution_count": 18,
   "id": "6b1d4e85",
   "metadata": {},
   "outputs": [
    {
     "name": "stdout",
     "output_type": "stream",
     "text": [
      "pk found  8e88ecd2495dad337b6b9eef3cf3db423c45925a91b1e71a8ec296b3444a3fbf4987ab960095831c5cb6c1764c8a125cb1266324762bd31a60febb6b2b370a03 added by did:key: 1A1XKhLwTWMyePU8n3EzgAQvyPGgZmYZhu\n",
      "txn: {'did': '1A1XKhLwTWMyePU8n3EzgAQvyPGgZmYZhu', 'pk': '8e88ecd2495dad337b6b9eef3cf3db423c45925a91b1e71a8ec296b3444a3fbf4987ab960095831c5cb6c1764c8a125cb1266324762bd31a60febb6b2b370a03'}\n",
      "block data: {'prev_hash': '0', 'mkl_root': '5ddbeb6a988bdac322b0fc46c83f2a28fabb92a908e7d1a05bca79e77b653f90', 'block_hash': '0990f1364ad45897aa6332f82b1c9ef8244c47f1539d8391ed1ad498fda6ac86', 'nonce': 2480, 'timestamp': '1652265142.4358015'}\n",
      "True Signature verified of  8e88ecd2495dad337b6b9eef3cf3db423c45925a91b1e71a8ec296b3444a3fbf4987ab960095831c5cb6c1764c8a125cb1266324762bd31a60febb6b2b370a03\n",
      "Claim {'name': 'Julie Miller', 'age': 18} by did:peer:1E6MQLio22eV1gyrJcAVELVMyRd1cHHXJf Verified by registrar\n",
      "pk found  8e88ecd2495dad337b6b9eef3cf3db423c45925a91b1e71a8ec296b3444a3fbf4987ab960095831c5cb6c1764c8a125cb1266324762bd31a60febb6b2b370a03 added by did:key: 1A1XKhLwTWMyePU8n3EzgAQvyPGgZmYZhu\n",
      "txn: {'did': '1A1XKhLwTWMyePU8n3EzgAQvyPGgZmYZhu', 'pk': '8e88ecd2495dad337b6b9eef3cf3db423c45925a91b1e71a8ec296b3444a3fbf4987ab960095831c5cb6c1764c8a125cb1266324762bd31a60febb6b2b370a03'}\n",
      "block data: {'prev_hash': '0', 'mkl_root': '5ddbeb6a988bdac322b0fc46c83f2a28fabb92a908e7d1a05bca79e77b653f90', 'block_hash': '0990f1364ad45897aa6332f82b1c9ef8244c47f1539d8391ed1ad498fda6ac86', 'nonce': 2480, 'timestamp': '1652265142.4358015'}\n",
      "True Signature verified of  8e88ecd2495dad337b6b9eef3cf3db423c45925a91b1e71a8ec296b3444a3fbf4987ab960095831c5cb6c1764c8a125cb1266324762bd31a60febb6b2b370a03\n",
      "Claim {'name': 'Allen Uriarte', 'age': 18} by did:peer:17GKmFSg3YCh2tW3gkYSHDhtjFdVaFtZ4K Verified by registrar\n",
      "pk found  8e88ecd2495dad337b6b9eef3cf3db423c45925a91b1e71a8ec296b3444a3fbf4987ab960095831c5cb6c1764c8a125cb1266324762bd31a60febb6b2b370a03 added by did:key: 1A1XKhLwTWMyePU8n3EzgAQvyPGgZmYZhu\n",
      "txn: {'did': '1A1XKhLwTWMyePU8n3EzgAQvyPGgZmYZhu', 'pk': '8e88ecd2495dad337b6b9eef3cf3db423c45925a91b1e71a8ec296b3444a3fbf4987ab960095831c5cb6c1764c8a125cb1266324762bd31a60febb6b2b370a03'}\n",
      "block data: {'prev_hash': '0', 'mkl_root': '5ddbeb6a988bdac322b0fc46c83f2a28fabb92a908e7d1a05bca79e77b653f90', 'block_hash': '0990f1364ad45897aa6332f82b1c9ef8244c47f1539d8391ed1ad498fda6ac86', 'nonce': 2480, 'timestamp': '1652265142.4358015'}\n",
      "True Signature verified of  8e88ecd2495dad337b6b9eef3cf3db423c45925a91b1e71a8ec296b3444a3fbf4987ab960095831c5cb6c1764c8a125cb1266324762bd31a60febb6b2b370a03\n",
      "Claim {'name': 'Jenni Tieng', 'age': 18} by did:peer:1DDCLPY6zPnVCWW9Xd2ao7zwru1yjProCs Verified by registrar\n",
      "pk found  8e88ecd2495dad337b6b9eef3cf3db423c45925a91b1e71a8ec296b3444a3fbf4987ab960095831c5cb6c1764c8a125cb1266324762bd31a60febb6b2b370a03 added by did:key: 1A1XKhLwTWMyePU8n3EzgAQvyPGgZmYZhu\n",
      "txn: {'did': '1A1XKhLwTWMyePU8n3EzgAQvyPGgZmYZhu', 'pk': '8e88ecd2495dad337b6b9eef3cf3db423c45925a91b1e71a8ec296b3444a3fbf4987ab960095831c5cb6c1764c8a125cb1266324762bd31a60febb6b2b370a03'}\n",
      "block data: {'prev_hash': '0', 'mkl_root': '5ddbeb6a988bdac322b0fc46c83f2a28fabb92a908e7d1a05bca79e77b653f90', 'block_hash': '0990f1364ad45897aa6332f82b1c9ef8244c47f1539d8391ed1ad498fda6ac86', 'nonce': 2480, 'timestamp': '1652265142.4358015'}\n",
      "True Signature verified of  8e88ecd2495dad337b6b9eef3cf3db423c45925a91b1e71a8ec296b3444a3fbf4987ab960095831c5cb6c1764c8a125cb1266324762bd31a60febb6b2b370a03\n",
      "Claim {'name': 'Ellen Vignola', 'age': 18} by did:peer:136fi1rBLDg1dD4o753yuYhyad67XujnYc Verified by registrar\n",
      "pk found  8e88ecd2495dad337b6b9eef3cf3db423c45925a91b1e71a8ec296b3444a3fbf4987ab960095831c5cb6c1764c8a125cb1266324762bd31a60febb6b2b370a03 added by did:key: 1A1XKhLwTWMyePU8n3EzgAQvyPGgZmYZhu\n",
      "txn: {'did': '1A1XKhLwTWMyePU8n3EzgAQvyPGgZmYZhu', 'pk': '8e88ecd2495dad337b6b9eef3cf3db423c45925a91b1e71a8ec296b3444a3fbf4987ab960095831c5cb6c1764c8a125cb1266324762bd31a60febb6b2b370a03'}\n",
      "block data: {'prev_hash': '0', 'mkl_root': '5ddbeb6a988bdac322b0fc46c83f2a28fabb92a908e7d1a05bca79e77b653f90', 'block_hash': '0990f1364ad45897aa6332f82b1c9ef8244c47f1539d8391ed1ad498fda6ac86', 'nonce': 2480, 'timestamp': '1652265142.4358015'}\n",
      "True Signature verified of  8e88ecd2495dad337b6b9eef3cf3db423c45925a91b1e71a8ec296b3444a3fbf4987ab960095831c5cb6c1764c8a125cb1266324762bd31a60febb6b2b370a03\n",
      "Claim {'name': 'Geoffrey Cohran', 'age': 18} by did:peer:1AUviCbYHQTrepqbMKw3Bh1JTfmRtSWXVR Verified by registrar\n"
     ]
    }
   ],
   "source": [
    "for i in global_file.list_of_voters[region]:\n",
    "\ti.send_id_registrar()"
   ]
  },
  {
   "cell_type": "markdown",
   "id": "80f24ddf",
   "metadata": {},
   "source": [
    "Casts Vote"
   ]
  },
  {
   "cell_type": "code",
   "execution_count": 19,
   "id": "f046c3a0",
   "metadata": {},
   "outputs": [
    {
     "name": "stdout",
     "output_type": "stream",
     "text": [
      "abbea8cf-e8f0-427f-96ef-abdc063c60f1 Julie Miller\n",
      "Token Received is  {'token': UUID('33e1c2e6-7436-453e-8b9e-09cc17d736e6'), 'index': 1}\n",
      "Option - (1) - Patricia Loeschner - e34b0f1d-576b-4c3b-83b0-f22bc3c4e536\n",
      "Option - (2) - Jean Chasse - 6a14ebc6-b35e-4aa6-af81-2c6afdd1451b\n",
      "Option - (3) - Susie Johnson - f41a8e90-0d3d-4650-8b41-885daff799b0\n",
      "Enter Choice for Julie Miller a Number from Above1\n",
      "Option Chosen is Patricia Loeschner - e34b0f1d-576b-4c3b-83b0-f22bc3c4e536\n",
      "8e5ee6c5-c5e9-4f83-9abd-2bab38371229 Allen Uriarte\n",
      "Token Received is  {'token': UUID('ac5711f6-166d-4b1b-b0ce-5cbd882faf31'), 'index': 1}\n",
      "Option - (1) - Patricia Loeschner - e34b0f1d-576b-4c3b-83b0-f22bc3c4e536\n",
      "Option - (2) - Jean Chasse - 6a14ebc6-b35e-4aa6-af81-2c6afdd1451b\n",
      "Option - (3) - Susie Johnson - f41a8e90-0d3d-4650-8b41-885daff799b0\n",
      "Enter Choice for Allen Uriarte a Number from Above2\n",
      "Option Chosen is Jean Chasse - 6a14ebc6-b35e-4aa6-af81-2c6afdd1451b\n",
      "4139df8c-f26b-4ca1-a4d2-2a7bd0ec485b Jenni Tieng\n",
      "Token Received is  {'token': UUID('88387838-b4d5-4bb4-926f-503dd89b4803'), 'index': 1}\n",
      "Option - (1) - Patricia Loeschner - e34b0f1d-576b-4c3b-83b0-f22bc3c4e536\n",
      "Option - (2) - Jean Chasse - 6a14ebc6-b35e-4aa6-af81-2c6afdd1451b\n",
      "Option - (3) - Susie Johnson - f41a8e90-0d3d-4650-8b41-885daff799b0\n",
      "Enter Choice for Jenni Tieng a Number from Above1\n",
      "Option Chosen is Patricia Loeschner - e34b0f1d-576b-4c3b-83b0-f22bc3c4e536\n",
      "4fcf2de4-39ed-4999-bfc9-54604148ce2e Ellen Vignola\n",
      "Token Received is  {'token': UUID('a0f21a19-c139-4116-941f-211cdf5fdeba'), 'index': 1}\n",
      "Option - (1) - Patricia Loeschner - e34b0f1d-576b-4c3b-83b0-f22bc3c4e536\n",
      "Option - (2) - Jean Chasse - 6a14ebc6-b35e-4aa6-af81-2c6afdd1451b\n",
      "Option - (3) - Susie Johnson - f41a8e90-0d3d-4650-8b41-885daff799b0\n",
      "Enter Choice for Ellen Vignola a Number from Above2\n",
      "Option Chosen is Jean Chasse - 6a14ebc6-b35e-4aa6-af81-2c6afdd1451b\n",
      "6944d50d-9149-411f-9a4c-beb20ffdcbac Geoffrey Cohran\n",
      "Token Received is  {'token': UUID('1237ed2f-f2df-4b24-a087-c2e6317fa9ba'), 'index': 1}\n",
      "Option - (1) - Patricia Loeschner - e34b0f1d-576b-4c3b-83b0-f22bc3c4e536\n",
      "Option - (2) - Jean Chasse - 6a14ebc6-b35e-4aa6-af81-2c6afdd1451b\n",
      "Option - (3) - Susie Johnson - f41a8e90-0d3d-4650-8b41-885daff799b0\n",
      "Enter Choice for Geoffrey Cohran a Number from Above1\n",
      "Option Chosen is Patricia Loeschner - e34b0f1d-576b-4c3b-83b0-f22bc3c4e536\n"
     ]
    }
   ],
   "source": [
    "for i in global_file.list_of_voters[region]:\n",
    "\tprint(i.id,i.alias)\n",
    "\ti.vote()"
   ]
  },
  {
   "cell_type": "markdown",
   "id": "b9bdcd33",
   "metadata": {},
   "source": [
    "Coercion"
   ]
  },
  {
   "cell_type": "code",
   "execution_count": 20,
   "id": "b11704e3",
   "metadata": {},
   "outputs": [],
   "source": [
    "coerced = global_file.list_of_voters[region][0]"
   ]
  },
  {
   "cell_type": "code",
   "execution_count": 21,
   "id": "571283b1",
   "metadata": {},
   "outputs": [
    {
     "name": "stdout",
     "output_type": "stream",
     "text": [
      "Token Received is  {'token': UUID('33e1c2e6-7436-453e-8b9e-09cc17d736e6'), 'index': 2}\n",
      "Option - (1) - Patricia Loeschner - e34b0f1d-576b-4c3b-83b0-f22bc3c4e536\n",
      "Option - (2) - Jean Chasse - 6a14ebc6-b35e-4aa6-af81-2c6afdd1451b\n",
      "Option - (3) - Susie Johnson - f41a8e90-0d3d-4650-8b41-885daff799b0\n",
      "Enter Choice for Julie Miller a Number from Above3\n",
      "Option Chosen is Susie Johnson - f41a8e90-0d3d-4650-8b41-885daff799b0\n"
     ]
    }
   ],
   "source": [
    "coerced.vote()"
   ]
  },
  {
   "cell_type": "markdown",
   "id": "63f3d78a",
   "metadata": {},
   "source": [
    "Corrected Voting"
   ]
  },
  {
   "cell_type": "code",
   "execution_count": 22,
   "id": "81cc69ca",
   "metadata": {},
   "outputs": [
    {
     "name": "stdout",
     "output_type": "stream",
     "text": [
      "Token Received is  {'token': UUID('33e1c2e6-7436-453e-8b9e-09cc17d736e6'), 'index': 3}\n",
      "Option - (1) - Patricia Loeschner - e34b0f1d-576b-4c3b-83b0-f22bc3c4e536\n",
      "Option - (2) - Jean Chasse - 6a14ebc6-b35e-4aa6-af81-2c6afdd1451b\n",
      "Option - (3) - Susie Johnson - f41a8e90-0d3d-4650-8b41-885daff799b0\n",
      "Enter Choice for Julie Miller a Number from Above1\n",
      "Option Chosen is Patricia Loeschner - e34b0f1d-576b-4c3b-83b0-f22bc3c4e536\n"
     ]
    }
   ],
   "source": [
    "coerced.vote()"
   ]
  },
  {
   "cell_type": "markdown",
   "id": "4dfa733c",
   "metadata": {},
   "source": [
    "Evaluation"
   ]
  },
  {
   "cell_type": "code",
   "execution_count": 23,
   "id": "a689142b",
   "metadata": {},
   "outputs": [],
   "source": [
    "for i in global_file.list_of_counters[region]:\n",
    "\ti.send_votes_evaluator()"
   ]
  },
  {
   "cell_type": "code",
   "execution_count": 24,
   "id": "077ad05c",
   "metadata": {},
   "outputs": [
    {
     "name": "stdout",
     "output_type": "stream",
     "text": [
      "(1, 1, '33e1c2e6-7436-453e-8b9e-09cc17d736e6@1@{\"id\": \"c4330f6')\n",
      "(2, 1, '33e1c2e6-7436-453e-8b9e-09cc17d736e6@2@{\"id\": \"0015e9b')\n",
      "(3, 1, '33e1c2e6-7436-453e-8b9e-09cc17d736e6@3@{\"id\": \"a2dab5b')\n",
      "(1, 2, '2-be3c-4bf8-b7a3-9972e800cb2a\", \"data\": {\"e34b0f1d-576')\n",
      "(2, 2, 'a-184c-4249-9ce0-3875ffa3e6f4\", \"data\": {\"e34b0f1d-576')\n",
      "(3, 2, '1-c0b4-4869-b3d3-4c2993212063\", \"data\": {\"e34b0f1d-576')\n",
      "(1, 3, 'b-4c3b-83b0-f22bc3c4e536\": \"abbea8cf-e8f0-427f-96ef-ab')\n",
      "(2, 3, 'b-4c3b-83b0-f22bc3c4e536\": null, \"6a14ebc6-b35e-4aa6-a')\n",
      "(3, 3, 'b-4c3b-83b0-f22bc3c4e536\": \"abbea8cf-e8f0-427f-96ef-ab')\n",
      "(1, 4, 'dc063c60f1\", \"6a14ebc6-b35e-4aa6-af81-2c6afdd1451b\": n')\n",
      "(2, 4, 'f81-2c6afdd1451b\": null, \"f41a8e90-0d3d-4650-8b41-885d')\n",
      "(3, 4, 'dc063c60f1\", \"6a14ebc6-b35e-4aa6-af81-2c6afdd1451b\": n')\n",
      "(1, 5, 'ull, \"f41a8e90-0d3d-4650-8b41-885daff799b0\": null}}')\n",
      "(2, 5, 'aff799b0\": \"abbea8cf-e8f0-427f-96ef-abdc063c60f1\"}}')\n",
      "(3, 5, 'ull, \"f41a8e90-0d3d-4650-8b41-885daff799b0\": null}}')\n",
      "(1, 1, 'ac5711f6-166d-4b1b-b0ce-5cbd882faf31@1@{\"id\": \"a2080ca')\n",
      "(1, 2, '0-bf7c-4313-b8d0-f4f638b8a9df\", \"data\": {\"e34b0f1d-576')\n",
      "(1, 3, 'b-4c3b-83b0-f22bc3c4e536\": null, \"6a14ebc6-b35e-4aa6-a')\n",
      "(1, 4, 'f81-2c6afdd1451b\": \"8e5ee6c5-c5e9-4f83-9abd-2bab383712')\n",
      "(1, 5, '29\", \"f41a8e90-0d3d-4650-8b41-885daff799b0\": null}}')\n",
      "(1, 1, '88387838-b4d5-4bb4-926f-503dd89b4803@1@{\"id\": \"d16ed74')\n",
      "(1, 2, '5-8700-4d9f-ab52-a207613d3043\", \"data\": {\"e34b0f1d-576')\n",
      "(1, 3, 'b-4c3b-83b0-f22bc3c4e536\": \"4139df8c-f26b-4ca1-a4d2-2a')\n",
      "(1, 4, '7bd0ec485b\", \"6a14ebc6-b35e-4aa6-af81-2c6afdd1451b\": n')\n",
      "(1, 5, 'ull, \"f41a8e90-0d3d-4650-8b41-885daff799b0\": null}}')\n",
      "(1, 1, 'a0f21a19-c139-4116-941f-211cdf5fdeba@1@{\"id\": \"a547c14')\n",
      "(1, 2, '4-a9fa-4436-8f88-87d675db42fc\", \"data\": {\"e34b0f1d-576')\n",
      "(1, 3, 'b-4c3b-83b0-f22bc3c4e536\": null, \"6a14ebc6-b35e-4aa6-a')\n",
      "(1, 4, 'f81-2c6afdd1451b\": \"4fcf2de4-39ed-4999-bfc9-54604148ce')\n",
      "(1, 5, '2e\", \"f41a8e90-0d3d-4650-8b41-885daff799b0\": null}}')\n",
      "(1, 1, '1237ed2f-f2df-4b24-a087-c2e6317fa9ba@1@{\"id\": \"33cabdb')\n",
      "(1, 2, 'b-30a1-45fc-8d2b-b5f04c8369f6\", \"data\": {\"e34b0f1d-576')\n",
      "(1, 3, 'b-4c3b-83b0-f22bc3c4e536\": \"6944d50d-9149-411f-9a4c-be')\n",
      "(1, 4, 'b20ffdcbac\", \"6a14ebc6-b35e-4aa6-af81-2c6afdd1451b\": n')\n",
      "(1, 5, 'ull, \"f41a8e90-0d3d-4650-8b41-885daff799b0\": null}}')\n",
      "vote {UUID('33e1c2e6-7436-453e-8b9e-09cc17d736e6'): '33e1c2e6-7436-453e-8b9e-09cc17d736e6@3@{\"id\": \"a2dab5b1-c0b4-4869-b3d3-4c2993212063\", \"data\": {\"e34b0f1d-576b-4c3b-83b0-f22bc3c4e536\": \"abbea8cf-e8f0-427f-96ef-abdc063c60f1\", \"6a14ebc6-b35e-4aa6-af81-2c6afdd1451b\": null, \"f41a8e90-0d3d-4650-8b41-885daff799b0\": null}}', UUID('ac5711f6-166d-4b1b-b0ce-5cbd882faf31'): 'ac5711f6-166d-4b1b-b0ce-5cbd882faf31@1@{\"id\": \"a2080ca0-bf7c-4313-b8d0-f4f638b8a9df\", \"data\": {\"e34b0f1d-576b-4c3b-83b0-f22bc3c4e536\": null, \"6a14ebc6-b35e-4aa6-af81-2c6afdd1451b\": \"8e5ee6c5-c5e9-4f83-9abd-2bab38371229\", \"f41a8e90-0d3d-4650-8b41-885daff799b0\": null}}', UUID('88387838-b4d5-4bb4-926f-503dd89b4803'): '88387838-b4d5-4bb4-926f-503dd89b4803@1@{\"id\": \"d16ed745-8700-4d9f-ab52-a207613d3043\", \"data\": {\"e34b0f1d-576b-4c3b-83b0-f22bc3c4e536\": \"4139df8c-f26b-4ca1-a4d2-2a7bd0ec485b\", \"6a14ebc6-b35e-4aa6-af81-2c6afdd1451b\": null, \"f41a8e90-0d3d-4650-8b41-885daff799b0\": null}}', UUID('a0f21a19-c139-4116-941f-211cdf5fdeba'): 'a0f21a19-c139-4116-941f-211cdf5fdeba@1@{\"id\": \"a547c144-a9fa-4436-8f88-87d675db42fc\", \"data\": {\"e34b0f1d-576b-4c3b-83b0-f22bc3c4e536\": null, \"6a14ebc6-b35e-4aa6-af81-2c6afdd1451b\": \"4fcf2de4-39ed-4999-bfc9-54604148ce2e\", \"f41a8e90-0d3d-4650-8b41-885daff799b0\": null}}', UUID('1237ed2f-f2df-4b24-a087-c2e6317fa9ba'): '1237ed2f-f2df-4b24-a087-c2e6317fa9ba@1@{\"id\": \"33cabdbb-30a1-45fc-8d2b-b5f04c8369f6\", \"data\": {\"e34b0f1d-576b-4c3b-83b0-f22bc3c4e536\": \"6944d50d-9149-411f-9a4c-beb20ffdcbac\", \"6a14ebc6-b35e-4aa6-af81-2c6afdd1451b\": null, \"f41a8e90-0d3d-4650-8b41-885daff799b0\": null}}'}\n",
      "final {'id': '33cabdbb-30a1-45fc-8d2b-b5f04c8369f6', 'data': {'e34b0f1d-576b-4c3b-83b0-f22bc3c4e536': '6944d50d-9149-411f-9a4c-beb20ffdcbac', '6a14ebc6-b35e-4aa6-af81-2c6afdd1451b': None, 'f41a8e90-0d3d-4650-8b41-885daff799b0': None}}\n",
      "Result is  {UUID('e34b0f1d-576b-4c3b-83b0-f22bc3c4e536'): 0, UUID('6a14ebc6-b35e-4aa6-af81-2c6afdd1451b'): 0, UUID('f41a8e90-0d3d-4650-8b41-885daff799b0'): 0, 'e34b0f1d-576b-4c3b-83b0-f22bc3c4e536': 3, '6a14ebc6-b35e-4aa6-af81-2c6afdd1451b': 2}\n",
      "Result is  {'e34b0f1d-576b-4c3b-83b0-f22bc3c4e536': ['6944d50d-9149-411f-9a4c-beb20ffdcbac', 'abbea8cf-e8f0-427f-96ef-abdc063c60f1', '4139df8c-f26b-4ca1-a4d2-2a7bd0ec485b'], '6a14ebc6-b35e-4aa6-af81-2c6afdd1451b': ['4fcf2de4-39ed-4999-bfc9-54604148ce2e', '8e5ee6c5-c5e9-4f83-9abd-2bab38371229']}\n",
      "Result is  e34b0f1d-576b-4c3b-83b0-f22bc3c4e536 Patricia Loeschner\n"
     ]
    }
   ],
   "source": [
    "global_file.list_of_evaluators[region].construct_votes()\n",
    "global_file.list_of_evaluators[region].finalize_votes()\n",
    "global_file.list_of_evaluators[region].mixnet()\n",
    "global_file.list_of_evaluators[region].final_results()"
   ]
  },
  {
   "cell_type": "code",
   "execution_count": 28,
   "id": "e901d2c0",
   "metadata": {},
   "outputs": [
    {
     "name": "stdout",
     "output_type": "stream",
     "text": [
      "e34b0f1d-576b-4c3b-83b0-f22bc3c4e536  -  0\n",
      "6a14ebc6-b35e-4aa6-af81-2c6afdd1451b  -  0\n",
      "f41a8e90-0d3d-4650-8b41-885daff799b0  -  0\n",
      "e34b0f1d-576b-4c3b-83b0-f22bc3c4e536  -  3\n",
      "6a14ebc6-b35e-4aa6-af81-2c6afdd1451b  -  2\n"
     ]
    }
   ],
   "source": [
    "for i in evaluator.results:\n",
    "    print(i,\" - \",evaluator.results[i])"
   ]
  },
  {
   "cell_type": "code",
   "execution_count": null,
   "id": "977869fb",
   "metadata": {},
   "outputs": [],
   "source": []
  }
 ],
 "metadata": {
  "kernelspec": {
   "display_name": "Python 3 (ipykernel)",
   "language": "python",
   "name": "python3"
  },
  "language_info": {
   "codemirror_mode": {
    "name": "ipython",
    "version": 3
   },
   "file_extension": ".py",
   "mimetype": "text/x-python",
   "name": "python",
   "nbconvert_exporter": "python",
   "pygments_lexer": "ipython3",
   "version": "3.9.7"
  }
 },
 "nbformat": 4,
 "nbformat_minor": 5
}
