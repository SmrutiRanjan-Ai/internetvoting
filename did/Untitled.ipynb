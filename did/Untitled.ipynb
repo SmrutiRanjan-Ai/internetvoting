{
 "cells": [
  {
   "cell_type": "code",
   "execution_count": 4,
   "id": "f2060784",
   "metadata": {},
   "outputs": [
    {
     "name": "stdout",
     "output_type": "stream",
     "text": [
      "Requirement already satisfied: ecdsa in c:\\users\\smrut\\anaconda3\\lib\\site-packages (0.17.0)\n",
      "Requirement already satisfied: six>=1.9.0 in c:\\users\\smrut\\anaconda3\\lib\\site-packages (from ecdsa) (1.16.0)\n",
      "Collecting base58\n",
      "  Using cached base58-2.1.1-py3-none-any.whl (5.6 kB)\n",
      "Installing collected packages: base58\n",
      "Successfully installed base58-2.1.1\n"
     ]
    }
   ],
   "source": [
    "!pip install ecdsa\n",
    "!pip install base58\n"
   ]
  },
  {
   "cell_type": "code",
   "execution_count": 13,
   "id": "257100c5",
   "metadata": {},
   "outputs": [],
   "source": [
    "import agent\n",
    "import global_file"
   ]
  },
  {
   "cell_type": "code",
   "execution_count": 14,
   "id": "f40c54bb",
   "metadata": {},
   "outputs": [],
   "source": [
    "alice = agent.Agent(\"alice\",\"issuer\")\n",
    "bob = agent.Agent(\"bob\",\"holder\")\n",
    "faber = agent.Agent(\"faber\",\"holder\")\n"
   ]
  },
  {
   "cell_type": "code",
   "execution_count": 15,
   "id": "5ca7a97b",
   "metadata": {},
   "outputs": [],
   "source": [
    "global_file.list_agents[\"alice\"]=alice\n",
    "global_file.list_agents[\"bob\"]=bob\n",
    "global_file.list_agents[\"faber\"]=faber"
   ]
  },
  {
   "cell_type": "code",
   "execution_count": 17,
   "id": "f401a83e",
   "metadata": {},
   "outputs": [
    {
     "name": "stdout",
     "output_type": "stream",
     "text": [
      "Connection between alice with did:key:1Q7eHZjsdP658ggnZS6ads766bmGVuHhsA is established with bob with did:key:1HVPPciHje4Bogsj28QjqsxH5wksSvUYJ8\n"
     ]
    }
   ],
   "source": [
    "alice.create_invitation('issuer')\n",
    "alice.send_invitation(alice.invitation,\"bob\")"
   ]
  },
  {
   "cell_type": "code",
   "execution_count": 18,
   "id": "0ca72576",
   "metadata": {},
   "outputs": [],
   "source": [
    "bob.update_data(\"bob\",21)"
   ]
  },
  {
   "cell_type": "code",
   "execution_count": 19,
   "id": "502a5844",
   "metadata": {},
   "outputs": [],
   "source": [
    "bob.send_attributes('alice')"
   ]
  },
  {
   "cell_type": "code",
   "execution_count": 20,
   "id": "d82a9338",
   "metadata": {},
   "outputs": [
    {
     "name": "stdout",
     "output_type": "stream",
     "text": [
      "{'name': 'bob', 'age': 21} of bob checked.\n",
      "538f5b556c7a1195a289eed20dd6c7d5f5e1917220b0bfb61d0af3cf2a46dbb4\n",
      "Digital Signature =  21a34bae6584827a5b7eee03919362f3eadd0c3d69d9bf20abe4e3aeab0339b9f32c3af6c08622d82b41f20417cd876e1c139edcb9084db1541528ca7a37f6b2\n"
     ]
    },
    {
     "data": {
      "text/plain": [
       "True"
      ]
     },
     "execution_count": 20,
     "metadata": {},
     "output_type": "execute_result"
    }
   ],
   "source": [
    "alice.check_attributes()"
   ]
  },
  {
   "cell_type": "code",
   "execution_count": 21,
   "id": "e3e6383b",
   "metadata": {},
   "outputs": [
    {
     "ename": "TypeError",
     "evalue": "send_credentials() missing 3 required positional arguments: 'holder', 'signed_data', and 'data'",
     "output_type": "error",
     "traceback": [
      "\u001b[1;31m---------------------------------------------------------------------------\u001b[0m",
      "\u001b[1;31mTypeError\u001b[0m                                 Traceback (most recent call last)",
      "\u001b[1;32m~\\AppData\\Local\\Temp/ipykernel_3404/156733517.py\u001b[0m in \u001b[0;36m<module>\u001b[1;34m\u001b[0m\n\u001b[1;32m----> 1\u001b[1;33m \u001b[0malice\u001b[0m\u001b[1;33m.\u001b[0m\u001b[0msend_credentials\u001b[0m\u001b[1;33m(\u001b[0m\u001b[1;33m)\u001b[0m\u001b[1;33m\u001b[0m\u001b[1;33m\u001b[0m\u001b[0m\n\u001b[0m",
      "\u001b[1;31mTypeError\u001b[0m: send_credentials() missing 3 required positional arguments: 'holder', 'signed_data', and 'data'"
     ]
    }
   ],
   "source": [
    "alice.send_credentials()"
   ]
  },
  {
   "cell_type": "code",
   "execution_count": null,
   "id": "e7bb7934",
   "metadata": {},
   "outputs": [],
   "source": []
  }
 ],
 "metadata": {
  "kernelspec": {
   "display_name": "Python 3 (ipykernel)",
   "language": "python",
   "name": "python3"
  },
  "language_info": {
   "codemirror_mode": {
    "name": "ipython",
    "version": 3
   },
   "file_extension": ".py",
   "mimetype": "text/x-python",
   "name": "python",
   "nbconvert_exporter": "python",
   "pygments_lexer": "ipython3",
   "version": "3.9.7"
  }
 },
 "nbformat": 4,
 "nbformat_minor": 5
}
