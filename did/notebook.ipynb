{
 "cells": [
  {
   "cell_type": "code",
   "execution_count": 4,
   "id": "9e916e8e",
   "metadata": {},
   "outputs": [],
   "source": [
    "import agent\n",
    "import global_file\n",
    "import blockchain as b"
   ]
  },
  {
   "cell_type": "code",
   "execution_count": 5,
   "id": "c69bda7a",
   "metadata": {},
   "outputs": [],
   "source": [
    "blockchain=b.Blockchain()\n",
    "\n"
   ]
  },
  {
   "cell_type": "code",
   "execution_count": 6,
   "id": "acebcd8a",
   "metadata": {},
   "outputs": [
    {
     "name": "stdout",
     "output_type": "stream",
     "text": [
      "alice Agent Created with did:key:1MsdBxiBxjN8sPhNQGuVYymyvhCyNjTt7d\n",
      "bob Agent Created with did:key:1Bq5YqGskGLfknY2vRVfVxJbjwhuRz4HVT\n",
      "faber Agent Created with did:key:12rhuyuXYYWTk3SjdYmogoDGqosnZQXAYU\n"
     ]
    }
   ],
   "source": [
    "alice = agent.Agent(\"alice\",blockchain,\"issuer\")\n",
    "bob = agent.Agent(\"bob\",blockchain,\"holder\")\n",
    "faber = agent.Agent(\"faber\",blockchain,\"holder\")"
   ]
  },
  {
   "cell_type": "code",
   "execution_count": 7,
   "id": "e18cf6ce",
   "metadata": {},
   "outputs": [
    {
     "name": "stdout",
     "output_type": "stream",
     "text": [
      "Connection between alice with did:key:1MsdBxiBxjN8sPhNQGuVYymyvhCyNjTt7d is established with bob with did:key:1Bq5YqGskGLfknY2vRVfVxJbjwhuRz4HVT\n"
     ]
    }
   ],
   "source": [
    "alice.create_invitation('issuer')\n",
    "alice.send_invitation(alice.invitation,\"bob\")\n"
   ]
  },
  {
   "cell_type": "code",
   "execution_count": 8,
   "id": "184fd7f6",
   "metadata": {},
   "outputs": [],
   "source": [
    "bob.update_data(\"bob\",21)\n",
    "bob.send_attributes('alice')"
   ]
  },
  {
   "cell_type": "code",
   "execution_count": 6,
   "id": "2c3c2051",
   "metadata": {},
   "outputs": [
    {
     "name": "stdout",
     "output_type": "stream",
     "text": [
      "{'name': 'bob', 'age': 21} of bob checked.\n",
      "message is: 538f5b556c7a1195a289eed20dd6c7d5f5e1917220b0bfb61d0af3cf2a46dbb4\n",
      "Digital Signature =  761171d60d11bfc5165bb6e0452b8b6f379b3a1b004fb6dec0cf5aca3853b98a535b90a85d1ec9eb95ccaf4962d268223e1a35ada290f52ce76e4a7a31bdca13\n"
     ]
    }
   ],
   "source": [
    "alice.check_attributes()\n",
    "alice.send_credentials()"
   ]
  },
  {
   "cell_type": "code",
   "execution_count": 7,
   "id": "1db93cbd",
   "metadata": {},
   "outputs": [
    {
     "name": "stdout",
     "output_type": "stream",
     "text": [
      "pk found  87fd1168a222885ffbf450563dd2847b0666820e5f2d4b4cb831d3e1c5962d776e9b940495f394ce34cd4d67aae27244f063424084943e6bb669bcfcaebb508c added by did:key: 1GUiqf3mJNuZUDzzhkRb9DZg57ssGKUVpu\n",
      "txn: {'did': '1GUiqf3mJNuZUDzzhkRb9DZg57ssGKUVpu', 'pk': '87fd1168a222885ffbf450563dd2847b0666820e5f2d4b4cb831d3e1c5962d776e9b940495f394ce34cd4d67aae27244f063424084943e6bb669bcfcaebb508c'}\n",
      "block data: {'prev_hash': '0', 'mkl_root': 'a036dc22de17d5c5451c084def939bf248c0d9b1eaebe07932442bfe1f37aafb', 'block_hash': '0dd607430a365715baa01069a8842b49ba4a5259fbb72bcd5492bddbb17a2dbc', 'nonce': 3411, 'timestamp': '1652008042.1278155'}\n",
      "True Signature verified of  87fd1168a222885ffbf450563dd2847b0666820e5f2d4b4cb831d3e1c5962d776e9b940495f394ce34cd4d67aae27244f063424084943e6bb669bcfcaebb508c\n",
      "Claim {'name': 'bob', 'age': 21} by did:peer:1PuEaJYJxamU47wtu32LXc3De4Wy4frSsU Verified by faber\n"
     ]
    }
   ],
   "source": [
    "bob.present_claim('faber')"
   ]
  },
  {
   "cell_type": "code",
   "execution_count": 8,
   "id": "0ea313d4",
   "metadata": {},
   "outputs": [
    {
     "name": "stdout",
     "output_type": "stream",
     "text": [
      "block data: {'prev_hash': '0', 'mkl_root': 'a036dc22de17d5c5451c084def939bf248c0d9b1eaebe07932442bfe1f37aafb', 'block_hash': '0dd607430a365715baa01069a8842b49ba4a5259fbb72bcd5492bddbb17a2dbc', 'nonce': 3411, 'timestamp': '1652008042.1278155'}\n",
      "txn: {'did': '1GUiqf3mJNuZUDzzhkRb9DZg57ssGKUVpu', 'pk': '87fd1168a222885ffbf450563dd2847b0666820e5f2d4b4cb831d3e1c5962d776e9b940495f394ce34cd4d67aae27244f063424084943e6bb669bcfcaebb508c'}\n"
     ]
    }
   ],
   "source": [
    "blockchain.query_blockchain()"
   ]
  },
  {
   "cell_type": "code",
   "execution_count": 10,
   "id": "43ecf457",
   "metadata": {},
   "outputs": [
    {
     "name": "stdout",
     "output_type": "stream",
     "text": [
      "pk found  87fd1168a222885ffbf450563dd2847b0666820e5f2d4b4cb831d3e1c5962d776e9b940495f394ce34cd4d67aae27244f063424084943e6bb669bcfcaebb508c added by did:key: 1GUiqf3mJNuZUDzzhkRb9DZg57ssGKUVpu\n",
      "txn: {'did': '1GUiqf3mJNuZUDzzhkRb9DZg57ssGKUVpu', 'pk': '87fd1168a222885ffbf450563dd2847b0666820e5f2d4b4cb831d3e1c5962d776e9b940495f394ce34cd4d67aae27244f063424084943e6bb669bcfcaebb508c'}\n",
      "block data: {'prev_hash': '0', 'mkl_root': 'a036dc22de17d5c5451c084def939bf248c0d9b1eaebe07932442bfe1f37aafb', 'block_hash': '0dd607430a365715baa01069a8842b49ba4a5259fbb72bcd5492bddbb17a2dbc', 'nonce': 3411, 'timestamp': '1652008042.1278155'}\n",
      "True Signature verified of  87fd1168a222885ffbf450563dd2847b0666820e5f2d4b4cb831d3e1c5962d776e9b940495f394ce34cd4d67aae27244f063424084943e6bb669bcfcaebb508c\n",
      "Claim {'name': 'bob', 'age': 21} by did:peer:1PuEaJYJxamU47wtu32LXc3De4Wy4frSsU Verified by faber\n"
     ]
    }
   ],
   "source": [
    "bob.present_claim_data('faber','bob',21)"
   ]
  },
  {
   "cell_type": "code",
   "execution_count": null,
   "id": "da5ddf9f",
   "metadata": {},
   "outputs": [],
   "source": []
  }
 ],
 "metadata": {
  "kernelspec": {
   "display_name": "Python 3 (ipykernel)",
   "language": "python",
   "name": "python3"
  },
  "language_info": {
   "codemirror_mode": {
    "name": "ipython",
    "version": 3
   },
   "file_extension": ".py",
   "mimetype": "text/x-python",
   "name": "python",
   "nbconvert_exporter": "python",
   "pygments_lexer": "ipython3",
   "version": "3.9.7"
  }
 },
 "nbformat": 4,
 "nbformat_minor": 5
}
